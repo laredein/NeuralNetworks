{
  "nbformat": 4,
  "nbformat_minor": 0,
  "metadata": {
    "colab": {
      "name": "Untitled8.ipynb",
      "provenance": [],
      "authorship_tag": "ABX9TyOpLzOwpJhl0m9jgXCb2zkR",
      "include_colab_link": true
    },
    "kernelspec": {
      "name": "python3",
      "display_name": "Python 3"
    }
  },
  "cells": [
    {
      "cell_type": "markdown",
      "metadata": {
        "id": "view-in-github",
        "colab_type": "text"
      },
      "source": [
        "<a href=\"https://colab.research.google.com/github/laredein/NeuralNetworks/blob/master/XORwithoutlibs.ipynb\" target=\"_parent\"><img src=\"https://colab.research.google.com/assets/colab-badge.svg\" alt=\"Open In Colab\"/></a>"
      ]
    },
    {
      "cell_type": "code",
      "metadata": {
        "id": "zLG40OrMHrrD",
        "colab_type": "code",
        "colab": {}
      },
      "source": [
        "import math\n",
        "import random\n",
        "import numpy as np\n",
        "import matplotlib.pyplot as plt\n",
        "def f(model,cmap='Paired'):\n",
        "    cmap=plt.get_cmap(cmap)\n",
        "    x_span=np.linspace(0,1,20)\n",
        "    y_span=np.linspace(0,1,20)\n",
        "    xx,yy=np.meshgrid(x_span, y_span)\n",
        "    labels=model.predict(np.c_[xx.ravel(), yy.ravel()])\n",
        "    z=labels.reshape(xx.shape)\n",
        "    ax=plt.subplots()[1]\n",
        "    ax.contourf(xx, yy,z,cmap=cmap,alpha=0.5)\n",
        "    plt.show()\n",
        "\n",
        "def sigmoid(arr):\n",
        "    return 1/(1+math.e**(-arr))"
      ],
      "execution_count": 56,
      "outputs": []
    },
    {
      "cell_type": "code",
      "metadata": {
        "id": "LWGZ1JSSHtDi",
        "colab_type": "code",
        "colab": {
          "base_uri": "https://localhost:8080/",
          "height": 34
        },
        "outputId": "7b784ff2-bed5-43c7-86ff-efa5ce0c45df"
      },
      "source": [
        "class andnn:\n",
        "    def __init__(self,inp,out):\n",
        "        self.input=[i for i in inp]\n",
        "        self.out=out\n",
        "        for i in range(4):\n",
        "            self.input[i]=np.append(self.input[i],1)\n",
        "        self.input=np.array(self.input)\n",
        "        self.momentum=np.array([0 for _ in range(3)])\n",
        "        self.weights=np.array([random.random() for _ in range(3)])\n",
        "    def forward(self):\n",
        "        out=np.dot(self.input,self.weights)\n",
        "        return sigmoid(out)\n",
        "    def predict(self,inp):\n",
        "        input=[i for i in inp]\n",
        "        for i in range(len(inp)):\n",
        "            input[i]=np.append(input[i],1)\n",
        "        input=np.array(input)\n",
        "        out=np.dot(input,self.weights)\n",
        "        return sigmoid(out)\n",
        "    def backward(self):\n",
        "        o=self.forward()\n",
        "        delta=(self.out-o)*(1-o)*o\n",
        "        for i in range(4):\n",
        "            _=0.8*np.dot(delta[i],self.input[i])+0.2*self.momentum\n",
        "            self.weights=self.weights+_\n",
        "            self.momentum=_\n",
        "\n",
        "inp=np.array([[0,0],[0,1],[1,0],[1,1]])\n",
        "out=np.array([0,0,0,1])\n",
        "nn=andnn(inp,out)\n",
        "for i in range(300):\n",
        "    nn.backward()\n",
        "print(nn.predict(inp))"
      ],
      "execution_count": 57,
      "outputs": [
        {
          "output_type": "stream",
          "text": [
            "[0.0021838  0.10814776 0.10813932 0.87043528]\n"
          ],
          "name": "stdout"
        }
      ]
    },
    {
      "cell_type": "code",
      "metadata": {
        "id": "6bTaUXdOHtS6",
        "colab_type": "code",
        "colab": {
          "base_uri": "https://localhost:8080/",
          "height": 269
        },
        "outputId": "d941bf78-47bc-4c0b-c402-5653aa84fb21"
      },
      "source": [
        "f(nn)"
      ],
      "execution_count": 58,
      "outputs": [
        {
          "output_type": "display_data",
          "data": {
            "image/png": "[encoded data removed]",
            "text/plain": [
              "<Figure size 432x288 with 1 Axes>"
            ]
          },
          "metadata": {
            "tags": [],
            "needs_background": "light"
          }
        }
      ]
    },
    {
      "cell_type": "code",
      "metadata": {
        "id": "XKbgCXnnHr8K",
        "colab_type": "code",
        "colab": {
          "base_uri": "https://localhost:8080/",
          "height": 34
        },
        "outputId": "898dc7b7-e841-48a9-cab2-b56ad819bd21"
      },
      "source": [
        "class xornn:\n",
        "    def __init__(self,inp,out):\n",
        "        self.inp=[i for i in inp]\n",
        "        self.out=out\n",
        "        for i in range(4):\n",
        "            self.inp[i]=np.append(self.inp[i],1)\n",
        "        self.inp=np.array(self.inp)\n",
        "        self.hidmomentum=np.zeros((3))\n",
        "        self.inpmomentum=np.zeros((3,2))\n",
        "        self.hidweights=np.random.random_sample((3))*2-1\n",
        "        self.inpweights=np.random.random_sample((3,2))*2-1\n",
        "    def forward(self,inp):\n",
        "        self.hid=np.dot(inp,self.inpweights)\n",
        "        self.hid=sigmoid(self.hid)\n",
        "        self.hid=np.append(self.hid,[1])\n",
        "        out=np.dot(self.hid,self.hidweights)\n",
        "        out=sigmoid(out)\n",
        "        return out\n",
        "    def backward(self):\n",
        "        for i in range(4):\n",
        "            o=self.forward(self.inp[i])\n",
        "            delta=(self.out[i]-o)*o*(1-o)\n",
        "            changehid=2*np.dot(delta,self.hid)+0.4*self.hidmomentum\n",
        "            self.hidweights=self.hidweights+changehid\n",
        "            self.hidmomentum=changehid\n",
        "            deltas=self.hid*(1-self.hid)\n",
        "            deltas=deltas[0:2]*delta*self.hidweights[0:2]\n",
        "            change=2*self.inp[i]*deltas[:,None]+0.4*self.inpmomentum.T\n",
        "            self.inpweights=self.inpweights+change.T\n",
        "            self.inpmomentum=change.T\n",
        "    def predict(self,inp):\n",
        "        out=[self.forward(np.append(i,1)) for i in inp]\n",
        "        out=np.array(out)\n",
        "        return out\n",
        "inp=np.array([[0,0],[0,1],[1,0],[1,1]])\n",
        "out=np.array([0,1,1,0])\n",
        "nn=xornn(inp,out)\n",
        "\n",
        "\n",
        "for i in range(300):\n",
        "    nn.backward()\n",
        "\n",
        "print(nn.predict(inp))"
      ],
      "execution_count": 59,
      "outputs": [
        {
          "output_type": "stream",
          "text": [
            "[0.04436443 0.95081755 0.95852784 0.0387132 ]\n"
          ],
          "name": "stdout"
        }
      ]
    },
    {
      "cell_type": "code",
      "metadata": {
        "id": "2LWMN_9pHsIr",
        "colab_type": "code",
        "colab": {
          "base_uri": "https://localhost:8080/",
          "height": 269
        },
        "outputId": "5839e400-1bed-4c25-c8bc-110b1c1b0275"
      },
      "source": [
        "f(nn)"
      ],
      "execution_count": 60,
      "outputs": [
        {
          "output_type": "display_data",
          "data": {
            "image/png": "[encoded data removed]",
            "text/plain": [
              "<Figure size 432x288 with 1 Axes>"
            ]
          },
          "metadata": {
            "tags": [],
            "needs_background": "light"
          }
        }
      ]
    }
  ]
}