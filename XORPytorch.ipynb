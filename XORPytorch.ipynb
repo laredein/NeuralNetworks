{
  "nbformat": 4,
  "nbformat_minor": 0,
  "metadata": {
    "colab": {
      "name": "Untitled6.ipynb",
      "provenance": [],
      "authorship_tag": "ABX9TyO5mgab5j3GrQ2LknvJ6BR5",
      "include_colab_link": true
    },
    "kernelspec": {
      "name": "python3",
      "display_name": "Python 3"
    }
  },
  "cells": [
    {
      "cell_type": "markdown",
      "metadata": {
        "id": "view-in-github",
        "colab_type": "text"
      },
      "source": [
        "<a href=\"https://colab.research.google.com/github/laredein/NeuralNetworks/blob/master/XORPytorch.ipynb\" target=\"_parent\"><img src=\"https://colab.research.google.com/assets/colab-badge.svg\" alt=\"Open In Colab\"/></a>"
      ]
    },
    {
      "cell_type": "code",
      "metadata": {
        "id": "K2wxg610cQ62",
        "colab_type": "code",
        "colab": {}
      },
      "source": [
        "import torch\n",
        "import torch.nn as nn\n",
        "import torch.optim as optim\n",
        "import matplotlib.pyplot as plt\n",
        "import numpy as np\n",
        "inp=torch.tensor([[0,0],[0,1],[1,0],[1,1]],dtype=torch.float)\n",
        "out=torch.tensor([0,0,0,1],dtype=torch.float)\n",
        "def decisionboundary(model):\n",
        "    x_span=np.linspace(0,1,20)\n",
        "    y_span=np.linspace(0,1,20)\n",
        "    xx,yy=np.meshgrid(x_span, y_span)\n",
        "    labels=model(torch.tensor(np.c_[xx.ravel(), yy.ravel()],dtype=torch.float))\n",
        "    labels=labels.detach().numpy()\n",
        "    z=labels.reshape(xx.shape)\n",
        "    ax=plt.subplots()[1]\n",
        "    ax.contourf(xx,yy,z)\n",
        "    plt.show()"
      ],
      "execution_count": 1,
      "outputs": []
    },
    {
      "cell_type": "code",
      "metadata": {
        "id": "twbyUL6ZcRG-",
        "colab_type": "code",
        "colab": {
          "base_uri": "https://localhost:8080/",
          "height": 138
        },
        "outputId": "2b8361a3-4b01-453f-a331-e31aac3b219d"
      },
      "source": [
        "layers=[]\n",
        "layers.append(nn.Linear(2,1))\n",
        "layers.append(nn.Sigmoid())\n",
        "andmodel=nn.Sequential(*layers)\n",
        "loss=nn.MSELoss()\n",
        "optimizer=optim.SGD(andmodel.parameters(),lr=1.5,momentum=0.3)\n",
        "for epoch in range(300):\n",
        "    for j in range(4):\n",
        "        optimizer.zero_grad()\n",
        "        ourout=andmodel(inp[j])\n",
        "        curlos=loss(ourout,out[j])\n",
        "        curlos.backward()\n",
        "        optimizer.step()\n",
        "print(andmodel(inp))"
      ],
      "execution_count": 2,
      "outputs": [
        {
          "output_type": "stream",
          "text": [
            "/usr/local/lib/python3.6/dist-packages/torch/nn/modules/loss.py:445: UserWarning: Using a target size (torch.Size([])) that is different to the input size (torch.Size([1])). This will likely lead to incorrect results due to broadcasting. Please ensure they have the same size.\n",
            "  return F.mse_loss(input, target, reduction=self.reduction)\n"
          ],
          "name": "stderr"
        },
        {
          "output_type": "stream",
          "text": [
            "tensor([[1.4223e-04],\n",
            "        [4.6957e-02],\n",
            "        [4.7263e-02],\n",
            "        [9.4500e-01]], grad_fn=<SigmoidBackward>)\n"
          ],
          "name": "stdout"
        }
      ]
    },
    {
      "cell_type": "code",
      "metadata": {
        "id": "A9-dJwUicRU-",
        "colab_type": "code",
        "colab": {
          "base_uri": "https://localhost:8080/",
          "height": 269
        },
        "outputId": "57cfc858-d743-4534-c661-f9a42fafe114"
      },
      "source": [
        "decisionboundary(andmodel)"
      ],
      "execution_count": 3,
      "outputs": [
        {
          "output_type": "display_data",
          "data": {
            "image/png": "[encoded data removed]",
            "text/plain": [
              "<Figure size 432x288 with 1 Axes>"
            ]
          },
          "metadata": {
            "tags": [],
            "needs_background": "light"
          }
        }
      ]
    },
    {
      "cell_type": "code",
      "metadata": {
        "id": "IETpOPICcRh0",
        "colab_type": "code",
        "colab": {
          "base_uri": "https://localhost:8080/",
          "height": 138
        },
        "outputId": "026a0c80-17c4-4165-c0f6-3e97ff017b44"
      },
      "source": [
        "inp=torch.tensor([[0,0],[0,1],[1,0],[1,1]],dtype=torch.float)\n",
        "out=torch.tensor([0,1,1,0],dtype=torch.float)\n",
        "layers=[]\n",
        "layers.append(nn.Linear(2,2))\n",
        "layers.append(nn.Sigmoid())\n",
        "layers.append(nn.Linear(2,1))\n",
        "layers.append(nn.Sigmoid())\n",
        "xormodel=nn.Sequential(*layers)\n",
        "loss=nn.MSELoss()\n",
        "optimizer=optim.SGD(xormodel.parameters(),lr=1.5,momentum=0.3)\n",
        "for epoch in range(300):\n",
        "    for j in range(4):\n",
        "        optimizer.zero_grad()\n",
        "        ourout=xormodel(inp[j])\n",
        "        curlos=loss(ourout,out[j])\n",
        "        curlos.backward()\n",
        "        optimizer.step()\n",
        "print(xormodel(inp))"
      ],
      "execution_count": 4,
      "outputs": [
        {
          "output_type": "stream",
          "text": [
            "/usr/local/lib/python3.6/dist-packages/torch/nn/modules/loss.py:445: UserWarning: Using a target size (torch.Size([])) that is different to the input size (torch.Size([1])). This will likely lead to incorrect results due to broadcasting. Please ensure they have the same size.\n",
            "  return F.mse_loss(input, target, reduction=self.reduction)\n"
          ],
          "name": "stderr"
        },
        {
          "output_type": "stream",
          "text": [
            "tensor([[0.0514],\n",
            "        [0.9396],\n",
            "        [0.9384],\n",
            "        [0.0806]], grad_fn=<SigmoidBackward>)\n"
          ],
          "name": "stdout"
        }
      ]
    },
    {
      "cell_type": "code",
      "metadata": {
        "id": "8_0vrEJ0cR6V",
        "colab_type": "code",
        "colab": {
          "base_uri": "https://localhost:8080/",
          "height": 269
        },
        "outputId": "6f3b2165-e0fd-46a4-bdef-d9a1e99bd138"
      },
      "source": [
        "decisionboundary(xormodel)"
      ],
      "execution_count": 5,
      "outputs": [
        {
          "output_type": "display_data",
          "data": {
            "image/png": "[encoded data removed]",
            "text/plain": [
              "<Figure size 432x288 with 1 Axes>"
            ]
          },
          "metadata": {
            "tags": [],
            "needs_background": "light"
          }
        }
      ]
    }
  ]
}