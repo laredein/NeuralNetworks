{
  "nbformat": 4,
  "nbformat_minor": 0,
  "metadata": {
    "colab": {
      "name": "Untitled6.ipynb",
      "provenance": [],
      "authorship_tag": "ABX9TyMPR4U3b8w3zaSxz7jEbYQt",
      "include_colab_link": true
    },
    "kernelspec": {
      "name": "python3",
      "display_name": "Python 3"
    }
  },
  "cells": [
    {
      "cell_type": "markdown",
      "metadata": {
        "id": "view-in-github",
        "colab_type": "text"
      },
      "source": [
        "<a href=\"https://colab.research.google.com/github/laredein/NeuralNetworks/blob/master/XORPytorch.ipynb\" target=\"_parent\"><img src=\"https://colab.research.google.com/assets/colab-badge.svg\" alt=\"Open In Colab\"/></a>"
      ]
    },
    {
      "cell_type": "code",
      "metadata": {
        "id": "_jSZRCpTIIEn",
        "colab_type": "code",
        "colab": {
          "base_uri": "https://localhost:8080/",
          "height": 84
        },
        "outputId": "f6b7e508-61df-4f2b-e501-24391f4813ac"
      },
      "source": [
        "import torch\n",
        "import torch.nn as nn\n",
        "import matplotlib.pyplot as plt\n",
        "import numpy as np\n",
        "inp=torch.tensor([[0,0],[0,1],[1,0],[1,1]],dtype=torch.float)\n",
        "out=torch.tensor([[0],[1],[1],[0]],dtype=torch.float)\n",
        "\n",
        "\n",
        "class Neural_Network(nn.Module):\n",
        "    def __init__(self, ):\n",
        "        super(Neural_Network, self).__init__()\n",
        "        self.inp=2\n",
        "        self.hid=2\n",
        "        self.out=1\n",
        "        self.w1=torch.randn(self.inp,self.hid)\n",
        "        self.w2=torch.randn(self.hid,self.out)\n",
        "\n",
        "        self.w1mom=0\n",
        "        self.w2mom=0\n",
        "        self.y=[]\n",
        "    def forward(self,inp):\n",
        "        self.z=torch.matmul(inp,self.w1)\n",
        "        self.z2=self.sigmoid(self.z)\n",
        "        self.z3=torch.matmul(self.z2,self.w2)\n",
        "        o=self.sigmoid(self.z3)\n",
        "        return o\n",
        "\n",
        "    def sigmoid(self, s):\n",
        "        return 1/(1+torch.exp(-s))\n",
        "\n",
        "    def sigmoidder(self, s):\n",
        "        return s*(1-s)\n",
        "\n",
        "    def backward(self,inp,out,o):\n",
        "        self.oerr=out-o\n",
        "        self.odelta=self.oerr*self.sigmoidder(o)\n",
        "        self.z2err=torch.matmul(self.odelta, torch.t(self.w2))\n",
        "        self.z2delta=self.z2err*self.sigmoidder(self.z2)\n",
        "        neww1=torch.matmul(torch.t(inp),self.z2delta)*0.5+self.w1mom*0.1\n",
        "        neww2=torch.matmul(torch.t(self.z2),self.odelta)*0.5+self.w2mom*0.1\n",
        "        self.w1=self.w1+neww1\n",
        "        self.w2=self.w2+neww2\n",
        "        self.w1mom=neww1\n",
        "        self.w1mom=neww2\n",
        "    def train(self,inp,out):\n",
        "        o=self.forward(inp)\n",
        "        self.backward(inp,out,o)\n",
        "        self.y.append(((out-o)**2).sum())\n",
        "    def save(self, model):\n",
        "        torch.save(model, \"NN\")\n",
        "\n",
        "\n",
        "    def predict(self):\n",
        "        print (self.forward(torch.tensor([[0,0],[0,1],[1,0],[1,1]],dtype=torch.float)))\n",
        "NN=Neural_Network()\n",
        "for i in range(100000):\n",
        "    NN.train(inp,out)\n",
        "NN.save(NN)\n",
        "NN.predict()"
      ],
      "execution_count": 3,
      "outputs": [
        {
          "output_type": "stream",
          "text": [
            "tensor([[0.0106],\n",
            "        [0.9712],\n",
            "        [0.9713],\n",
            "        [0.0386]])\n"
          ],
          "name": "stdout"
        }
      ]
    },
    {
      "cell_type": "code",
      "metadata": {
        "id": "AQWFeSIFQPdf",
        "colab_type": "code",
        "colab": {
          "base_uri": "https://localhost:8080/",
          "height": 265
        },
        "outputId": "d7979861-dbe7-4798-d666-3e542791a1c6"
      },
      "source": [
        "y=np.array(NN.y)\n",
        "x=np.arange(len(y))\n",
        "plt.plot(x,y)\n",
        "plt.show()\n"
      ],
      "execution_count": 4,
      "outputs": [
        {
          "output_type": "display_data",
          "data": {
            "image/png": "[encoded data removed]",
            "text/plain": [
              "<Figure size 432x288 with 1 Axes>"
            ]
          },
          "metadata": {
            "tags": [],
            "needs_background": "light"
          }
        }
      ]
    }
  ]
}